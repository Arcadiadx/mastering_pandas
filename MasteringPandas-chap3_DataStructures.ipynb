{
 "cells": [
  {
   "cell_type": "code",
   "execution_count": 3,
   "metadata": {
    "collapsed": true
   },
   "outputs": [],
   "source": [
    "import numpy as np\n",
    "import pandas as pd"
   ]
  },
  {
   "cell_type": "markdown",
   "metadata": {},
   "source": [
    "<h2>NumPy array creation via numpy.array</h2>"
   ]
  },
  {
   "cell_type": "code",
   "execution_count": 5,
   "metadata": {
    "collapsed": false
   },
   "outputs": [],
   "source": [
    "ar1 = np.array([0,1,2,3]) # 1 dimensional array"
   ]
  },
  {
   "cell_type": "code",
   "execution_count": 7,
   "metadata": {
    "collapsed": true
   },
   "outputs": [],
   "source": [
    "ar2=np.array([[0,3,5],[2,8,7]]) # 2D array"
   ]
  },
  {
   "cell_type": "code",
   "execution_count": 8,
   "metadata": {
    "collapsed": false
   },
   "outputs": [
    {
     "data": {
      "text/plain": [
       "array([0, 1, 2, 3])"
      ]
     },
     "execution_count": 8,
     "metadata": {},
     "output_type": "execute_result"
    }
   ],
   "source": [
    "ar1"
   ]
  },
  {
   "cell_type": "code",
   "execution_count": 9,
   "metadata": {
    "collapsed": false
   },
   "outputs": [
    {
     "data": {
      "text/plain": [
       "array([[0, 3, 5],\n",
       "       [2, 8, 7]])"
      ]
     },
     "execution_count": 9,
     "metadata": {},
     "output_type": "execute_result"
    }
   ],
   "source": [
    "ar2"
   ]
  },
  {
   "cell_type": "markdown",
   "metadata": {},
   "source": [
    "<b>Shape of the array</b>"
   ]
  },
  {
   "cell_type": "code",
   "execution_count": 10,
   "metadata": {
    "collapsed": false
   },
   "outputs": [
    {
     "data": {
      "text/plain": [
       "(2, 3)"
      ]
     },
     "execution_count": 10,
     "metadata": {},
     "output_type": "execute_result"
    }
   ],
   "source": [
    "ar2.shape"
   ]
  },
  {
   "cell_type": "markdown",
   "metadata": {},
   "source": [
    "<b>Number of dimensions</b>"
   ]
  },
  {
   "cell_type": "code",
   "execution_count": 13,
   "metadata": {
    "collapsed": false
   },
   "outputs": [
    {
     "data": {
      "text/plain": [
       "2"
      ]
     },
     "execution_count": 13,
     "metadata": {},
     "output_type": "execute_result"
    }
   ],
   "source": [
    "ar2.ndim"
   ]
  },
  {
   "cell_type": "markdown",
   "metadata": {},
   "source": [
    "<h2>NumPy array creation via numpy.arange</h2>"
   ]
  },
  {
   "cell_type": "code",
   "execution_count": 14,
   "metadata": {
    "collapsed": false
   },
   "outputs": [
    {
     "data": {
      "text/plain": [
       "array([ 0,  1,  2,  3,  4,  5,  6,  7,  8,  9, 10, 11])"
      ]
     },
     "execution_count": 14,
     "metadata": {},
     "output_type": "execute_result"
    }
   ],
   "source": [
    "ar3=np.arange(12);ar3"
   ]
  },
  {
   "cell_type": "code",
   "execution_count": 15,
   "metadata": {
    "collapsed": false
   },
   "outputs": [
    {
     "data": {
      "text/plain": [
       "array([3, 6, 9])"
      ]
     },
     "execution_count": 15,
     "metadata": {},
     "output_type": "execute_result"
    }
   ],
   "source": [
    "# start, end (exclusive)\n",
    "ar4=np.arange(3,10,3);ar4"
   ]
  },
  {
   "cell_type": "markdown",
   "metadata": {},
   "source": [
    "<h2>NumPy array creation via numpy.linspace</h2>"
   ]
  },
  {
   "cell_type": "code",
   "execution_count": 16,
   "metadata": {
    "collapsed": false
   },
   "outputs": [
    {
     "data": {
      "text/plain": [
       "array([ 0.        ,  0.22222222,  0.44444444,  0.66666667])"
      ]
     },
     "execution_count": 16,
     "metadata": {},
     "output_type": "execute_result"
    }
   ],
   "source": [
    "# args - start element,end element, number of elements\n",
    "ar5=np.linspace(0,2.0/3,4); ar5"
   ]
  },
  {
   "cell_type": "markdown",
   "metadata": {},
   "source": [
    "<h2>NumPy array via various other functions</h2>"
   ]
  },
  {
   "cell_type": "markdown",
   "metadata": {},
   "source": [
    "<h3>numpy.ones</h3>"
   ]
  },
  {
   "cell_type": "code",
   "execution_count": 17,
   "metadata": {
    "collapsed": false
   },
   "outputs": [
    {
     "data": {
      "text/plain": [
       "array([[[ 1.,  1.],\n",
       "        [ 1.,  1.],\n",
       "        [ 1.,  1.]],\n",
       "\n",
       "       [[ 1.,  1.],\n",
       "        [ 1.,  1.],\n",
       "        [ 1.,  1.]]])"
      ]
     },
     "execution_count": 17,
     "metadata": {},
     "output_type": "execute_result"
    }
   ],
   "source": [
    "# Produces 2x3x2 array of 1's.\n",
    "ar7=np.ones((2,3,2)); ar7"
   ]
  },
  {
   "cell_type": "markdown",
   "metadata": {},
   "source": [
    "<h3>numpy.zeros</h3>"
   ]
  },
  {
   "cell_type": "code",
   "execution_count": 18,
   "metadata": {
    "collapsed": false
   },
   "outputs": [
    {
     "data": {
      "text/plain": [
       "array([[ 0.,  0.],\n",
       "       [ 0.,  0.],\n",
       "       [ 0.,  0.],\n",
       "       [ 0.,  0.]])"
      ]
     },
     "execution_count": 18,
     "metadata": {},
     "output_type": "execute_result"
    }
   ],
   "source": [
    "# Produce 4x2 array of zeros.\n",
    "ar8=np.zeros((4,2));ar8"
   ]
  },
  {
   "cell_type": "code",
   "execution_count": null,
   "metadata": {
    "collapsed": true
   },
   "outputs": [],
   "source": []
  },
  {
   "cell_type": "code",
   "execution_count": null,
   "metadata": {
    "collapsed": true
   },
   "outputs": [],
   "source": []
  },
  {
   "cell_type": "code",
   "execution_count": 3,
   "metadata": {
    "collapsed": false
   },
   "outputs": [
    {
     "data": {
      "text/plain": [
       "array([ 3.  , -2.  ,  8.18])"
      ]
     },
     "execution_count": 3,
     "metadata": {},
     "output_type": "execute_result"
    }
   ],
   "source": [
    "f_ar = np.array([3,-2,8.18])\n",
    "f_ar"
   ]
  },
  {
   "cell_type": "code",
   "execution_count": 4,
   "metadata": {
    "collapsed": false
   },
   "outputs": [
    {
     "data": {
      "text/plain": [
       "array([ 3, -2,  8])"
      ]
     },
     "execution_count": 4,
     "metadata": {},
     "output_type": "execute_result"
    }
   ],
   "source": [
    "f_ar.astype(int)"
   ]
  },
  {
   "cell_type": "code",
   "execution_count": 5,
   "metadata": {
    "collapsed": false
   },
   "outputs": [
    {
     "ename": "IndexError",
     "evalue": "index 5 is out of bounds for axis 0 with size 3",
     "output_type": "error",
     "traceback": [
      "\u001b[0;31m---------------------------------------------------------------------------\u001b[0m",
      "\u001b[0;31mIndexError\u001b[0m                                Traceback (most recent call last)",
      "\u001b[0;32m<ipython-input-5-94a63c5391c5>\u001b[0m in \u001b[0;36m<module>\u001b[0;34m()\u001b[0m\n\u001b[0;32m----> 1\u001b[0;31m \u001b[0mf_ar\u001b[0m\u001b[0;34m[\u001b[0m\u001b[0;36m5\u001b[0m\u001b[0;34m]\u001b[0m\u001b[0;34m\u001b[0m\u001b[0m\n\u001b[0m",
      "\u001b[0;31mIndexError\u001b[0m: index 5 is out of bounds for axis 0 with size 3"
     ]
    }
   ],
   "source": [
    "f_ar[5]"
   ]
  },
  {
   "cell_type": "code",
   "execution_count": 6,
   "metadata": {
    "collapsed": true
   },
   "outputs": [],
   "source": [
    "ar = np.array([0,1,2])"
   ]
  },
  {
   "cell_type": "code",
   "execution_count": 7,
   "metadata": {
    "collapsed": false
   },
   "outputs": [
    {
     "ename": "IndexError",
     "evalue": "index 5 is out of bounds for axis 0 with size 3",
     "output_type": "error",
     "traceback": [
      "\u001b[0;31m---------------------------------------------------------------------------\u001b[0m",
      "\u001b[0;31mIndexError\u001b[0m                                Traceback (most recent call last)",
      "\u001b[0;32m<ipython-input-7-8ef7e0800b7a>\u001b[0m in \u001b[0;36m<module>\u001b[0;34m()\u001b[0m\n\u001b[0;32m----> 1\u001b[0;31m \u001b[0mar\u001b[0m\u001b[0;34m[\u001b[0m\u001b[0;36m5\u001b[0m\u001b[0;34m]\u001b[0m\u001b[0;34m\u001b[0m\u001b[0m\n\u001b[0m",
      "\u001b[0;31mIndexError\u001b[0m: index 5 is out of bounds for axis 0 with size 3"
     ]
    }
   ],
   "source": [
    "ar[5]"
   ]
  },
  {
   "cell_type": "code",
   "execution_count": 8,
   "metadata": {
    "collapsed": false
   },
   "outputs": [
    {
     "ename": "IndexError",
     "evalue": "too many indices for array",
     "output_type": "error",
     "traceback": [
      "\u001b[0;31m---------------------------------------------------------------------------\u001b[0m",
      "\u001b[0;31mIndexError\u001b[0m                                Traceback (most recent call last)",
      "\u001b[0;32m<ipython-input-8-2ded349f1c0c>\u001b[0m in \u001b[0;36m<module>\u001b[0;34m()\u001b[0m\n\u001b[0;32m----> 1\u001b[0;31m \u001b[0mar\u001b[0m\u001b[0;34m[\u001b[0m\u001b[0;36m1\u001b[0m\u001b[0;34m,\u001b[0m\u001b[0;36m3\u001b[0m\u001b[0;34m]\u001b[0m\u001b[0;34m\u001b[0m\u001b[0m\n\u001b[0m",
      "\u001b[0;31mIndexError\u001b[0m: too many indices for array"
     ]
    }
   ],
   "source": [
    "ar[1,3]"
   ]
  },
  {
   "cell_type": "code",
   "execution_count": 9,
   "metadata": {
    "collapsed": false
   },
   "outputs": [
    {
     "ename": "IndexError",
     "evalue": "index 3 is out of bounds for axis 1 with size 3",
     "output_type": "error",
     "traceback": [
      "\u001b[0;31m---------------------------------------------------------------------------\u001b[0m",
      "\u001b[0;31mIndexError\u001b[0m                                Traceback (most recent call last)",
      "\u001b[0;32m<ipython-input-9-590ef71f9651>\u001b[0m in \u001b[0;36m<module>\u001b[0;34m()\u001b[0m\n\u001b[0;32m----> 1\u001b[0;31m \u001b[0mar\u001b[0m\u001b[0;34m[\u001b[0m\u001b[0;34m[\u001b[0m\u001b[0;36m1\u001b[0m\u001b[0;34m,\u001b[0m\u001b[0;36m3\u001b[0m\u001b[0;34m]\u001b[0m\u001b[0;34m]\u001b[0m\u001b[0;34m\u001b[0m\u001b[0m\n\u001b[0m",
      "\u001b[0;31mIndexError\u001b[0m: index 3 is out of bounds for axis 1 with size 3"
     ]
    }
   ],
   "source": [
    "ar[[1,3]]"
   ]
  },
  {
   "cell_type": "code",
   "execution_count": 10,
   "metadata": {
    "collapsed": false
   },
   "outputs": [
    {
     "data": {
      "text/plain": [
       "array([1, 2])"
      ]
     },
     "execution_count": 10,
     "metadata": {},
     "output_type": "execute_result"
    }
   ],
   "source": [
    "ar[[1,2]]"
   ]
  },
  {
   "cell_type": "code",
   "execution_count": 11,
   "metadata": {
    "collapsed": false
   },
   "outputs": [
    {
     "data": {
      "text/plain": [
       "array([0, 2])"
      ]
     },
     "execution_count": 11,
     "metadata": {},
     "output_type": "execute_result"
    }
   ],
   "source": [
    "ar[[0,2]]"
   ]
  },
  {
   "cell_type": "code",
   "execution_count": 13,
   "metadata": {
    "collapsed": false
   },
   "outputs": [],
   "source": [
    "ar=np.array([2,-16,7,5])"
   ]
  },
  {
   "cell_type": "code",
   "execution_count": 14,
   "metadata": {
    "collapsed": false
   },
   "outputs": [
    {
     "data": {
      "text/plain": [
       "array([2, 7])"
      ]
     },
     "execution_count": 14,
     "metadata": {},
     "output_type": "execute_result"
    }
   ],
   "source": [
    "ar[[0,2]]"
   ]
  },
  {
   "cell_type": "code",
   "execution_count": 15,
   "metadata": {
    "collapsed": false
   },
   "outputs": [
    {
     "ename": "IndexError",
     "evalue": "too many indices for array",
     "output_type": "error",
     "traceback": [
      "\u001b[0;31m---------------------------------------------------------------------------\u001b[0m",
      "\u001b[0;31mIndexError\u001b[0m                                Traceback (most recent call last)",
      "\u001b[0;32m<ipython-input-15-ccd5c505514a>\u001b[0m in \u001b[0;36m<module>\u001b[0;34m()\u001b[0m\n\u001b[0;32m----> 1\u001b[0;31m \u001b[0mar\u001b[0m\u001b[0;34m[\u001b[0m\u001b[0;36m0\u001b[0m\u001b[0;34m,\u001b[0m\u001b[0;36m2\u001b[0m\u001b[0;34m]\u001b[0m\u001b[0;34m\u001b[0m\u001b[0m\n\u001b[0m",
      "\u001b[0;31mIndexError\u001b[0m: too many indices for array"
     ]
    }
   ],
   "source": [
    "ar[0,2]"
   ]
  },
  {
   "cell_type": "code",
   "execution_count": 16,
   "metadata": {
    "collapsed": false
   },
   "outputs": [
    {
     "data": {
      "text/plain": [
       "array([  2, -16,   7,   5])"
      ]
     },
     "execution_count": 16,
     "metadata": {},
     "output_type": "execute_result"
    }
   ],
   "source": [
    "ar"
   ]
  },
  {
   "cell_type": "code",
   "execution_count": 17,
   "metadata": {
    "collapsed": false
   },
   "outputs": [
    {
     "data": {
      "text/plain": [
       "array([ 0,  1,  2,  3,  4,  5,  6,  7,  8,  9, 10, 11, 12, 13, 14])"
      ]
     },
     "execution_count": 17,
     "metadata": {},
     "output_type": "execute_result"
    }
   ],
   "source": [
    "ar=np.arange(15); ar"
   ]
  },
  {
   "cell_type": "code",
   "execution_count": 18,
   "metadata": {
    "collapsed": false
   },
   "outputs": [
    {
     "data": {
      "text/plain": [
       "array([-9, -8, -7, -6, -5, -4, -3, -2, -1,  0])"
      ]
     },
     "execution_count": 18,
     "metadata": {},
     "output_type": "execute_result"
    }
   ],
   "source": [
    "ar2=np.arange(0,-10,-1)[::-1]; ar2"
   ]
  },
  {
   "cell_type": "code",
   "execution_count": 19,
   "metadata": {
    "collapsed": false
   },
   "outputs": [
    {
     "data": {
      "text/plain": [
       "array([-9, -8, -7, -6, -5, -4, -3, -2, -1,  0, 10, 11, 12, 13, 14])"
      ]
     },
     "execution_count": 19,
     "metadata": {},
     "output_type": "execute_result"
    }
   ],
   "source": [
    "ar[:10]=ar2; ar\n"
   ]
  },
  {
   "cell_type": "code",
   "execution_count": 21,
   "metadata": {
    "collapsed": false
   },
   "outputs": [
    {
     "data": {
      "text/plain": [
       "True"
      ]
     },
     "execution_count": 21,
     "metadata": {},
     "output_type": "execute_result"
    }
   ],
   "source": [
    "ar=np.arange(0,6)\n",
    "ar2=np.array([0,1,2,3,4,5])\n",
    "np.array_equal(ar, ar2)\n"
   ]
  },
  {
   "cell_type": "code",
   "execution_count": 22,
   "metadata": {
    "collapsed": false
   },
   "outputs": [
    {
     "data": {
      "text/plain": [
       "array([ True,  True,  True,  True,  True,  True], dtype=bool)"
      ]
     },
     "execution_count": 22,
     "metadata": {},
     "output_type": "execute_result"
    }
   ],
   "source": [
    "ar==ar2"
   ]
  },
  {
   "cell_type": "code",
   "execution_count": 24,
   "metadata": {
    "collapsed": false
   },
   "outputs": [
    {
     "data": {
      "text/plain": [
       "True"
      ]
     },
     "execution_count": 24,
     "metadata": {},
     "output_type": "execute_result"
    }
   ],
   "source": [
    "np.all(ar==ar2)"
   ]
  },
  {
   "cell_type": "code",
   "execution_count": 25,
   "metadata": {
    "collapsed": false
   },
   "outputs": [
    {
     "data": {
      "text/plain": [
       "array([[9, 4, 0, 1, 9],\n",
       "       [0, 1, 8, 9, 0],\n",
       "       [8, 6, 4, 3, 0],\n",
       "       [4, 6, 8, 1, 8]])"
      ]
     },
     "execution_count": 25,
     "metadata": {},
     "output_type": "execute_result"
    }
   ],
   "source": [
    "np.random.seed(10)\n",
    "ar=np.random.randint(0,10, size=(4,5));ar\n"
   ]
  },
  {
   "cell_type": "code",
   "execution_count": 27,
   "metadata": {
    "collapsed": false
   },
   "outputs": [
    {
     "data": {
      "text/plain": [
       "(4, 5)"
      ]
     },
     "execution_count": 27,
     "metadata": {},
     "output_type": "execute_result"
    }
   ],
   "source": [
    "np.shape(ar)"
   ]
  },
  {
   "cell_type": "code",
   "execution_count": 29,
   "metadata": {
    "collapsed": false
   },
   "outputs": [],
   "source": [
    "c_ar=np.cumsum(ar)"
   ]
  },
  {
   "cell_type": "code",
   "execution_count": 30,
   "metadata": {
    "collapsed": false
   },
   "outputs": [
    {
     "data": {
      "text/plain": [
       "(20,)"
      ]
     },
     "execution_count": 30,
     "metadata": {},
     "output_type": "execute_result"
    }
   ],
   "source": [
    "np.shape(c_ar)"
   ]
  },
  {
   "cell_type": "code",
   "execution_count": 31,
   "metadata": {
    "collapsed": false
   },
   "outputs": [
    {
     "data": {
      "text/plain": [
       "array([ 9, 13, 13, 14, 23, 23, 24, 32, 41, 41, 49, 55, 59, 62, 62, 66, 72,\n",
       "       80, 81, 89])"
      ]
     },
     "execution_count": 31,
     "metadata": {},
     "output_type": "execute_result"
    }
   ],
   "source": [
    "c_ar"
   ]
  },
  {
   "cell_type": "code",
   "execution_count": 34,
   "metadata": {
    "collapsed": false
   },
   "outputs": [
    {
     "data": {
      "text/plain": [
       "array([0, 1, 2, 3, 4])"
      ]
     },
     "execution_count": 34,
     "metadata": {},
     "output_type": "execute_result"
    }
   ],
   "source": [
    "ar=np.arange(5); \n",
    "ar"
   ]
  },
  {
   "cell_type": "code",
   "execution_count": 35,
   "metadata": {
    "collapsed": true
   },
   "outputs": [],
   "source": [
    "ar2=ar"
   ]
  },
  {
   "cell_type": "code",
   "execution_count": 36,
   "metadata": {
    "collapsed": false
   },
   "outputs": [
    {
     "ename": "ValueError",
     "evalue": "cannot resize an array that references or is referenced\nby another array in this way.  Use the resize function",
     "output_type": "error",
     "traceback": [
      "\u001b[0;31m---------------------------------------------------------------------------\u001b[0m",
      "\u001b[0;31mValueError\u001b[0m                                Traceback (most recent call last)",
      "\u001b[0;32m<ipython-input-36-394f7795e2d1>\u001b[0m in \u001b[0;36m<module>\u001b[0;34m()\u001b[0m\n\u001b[0;32m----> 1\u001b[0;31m \u001b[0mar\u001b[0m\u001b[0;34m.\u001b[0m\u001b[0mresize\u001b[0m\u001b[0;34m(\u001b[0m\u001b[0;34m(\u001b[0m\u001b[0;36m8\u001b[0m\u001b[0;34m,\u001b[0m\u001b[0;34m)\u001b[0m\u001b[0;34m)\u001b[0m\u001b[0;34m;\u001b[0m\u001b[0;34m\u001b[0m\u001b[0m\n\u001b[0m",
      "\u001b[0;31mValueError\u001b[0m: cannot resize an array that references or is referenced\nby another array in this way.  Use the resize function"
     ]
    }
   ],
   "source": [
    "ar.resize((8,));"
   ]
  },
  {
   "cell_type": "code",
   "execution_count": 38,
   "metadata": {
    "collapsed": false
   },
   "outputs": [
    {
     "data": {
      "text/plain": [
       "array([0, 1, 2, 3, 4, 0, 1, 2])"
      ]
     },
     "execution_count": 38,
     "metadata": {},
     "output_type": "execute_result"
    }
   ],
   "source": [
    "np.resize(ar,(8,))"
   ]
  },
  {
   "cell_type": "code",
   "execution_count": 43,
   "metadata": {
    "collapsed": false
   },
   "outputs": [
    {
     "data": {
      "text/plain": [
       "array([[ 3,  2],\n",
       "       [10, -1]])"
      ]
     },
     "execution_count": 43,
     "metadata": {},
     "output_type": "execute_result"
    }
   ],
   "source": [
    "ar=np.array([[3,2],[10,-1]])\n",
    "ar\n"
   ]
  },
  {
   "cell_type": "code",
   "execution_count": 44,
   "metadata": {
    "collapsed": false
   },
   "outputs": [
    {
     "data": {
      "text/plain": [
       "array([[ 2,  3],\n",
       "       [-1, 10]])"
      ]
     },
     "execution_count": 44,
     "metadata": {},
     "output_type": "execute_result"
    }
   ],
   "source": [
    "ar.sort(axis=1)\n",
    "ar"
   ]
  },
  {
   "cell_type": "code",
   "execution_count": 45,
   "metadata": {
    "collapsed": false
   },
   "outputs": [
    {
     "data": {
      "text/plain": [
       "array([[ 3,  2],\n",
       "       [10, -1]])"
      ]
     },
     "execution_count": 45,
     "metadata": {},
     "output_type": "execute_result"
    }
   ],
   "source": [
    "ar=np.array([[3,2],[10,-1]])\n",
    "ar"
   ]
  },
  {
   "cell_type": "code",
   "execution_count": 46,
   "metadata": {
    "collapsed": false
   },
   "outputs": [
    {
     "data": {
      "text/plain": [
       "array([[ 3, -1],\n",
       "       [10,  2]])"
      ]
     },
     "execution_count": 46,
     "metadata": {},
     "output_type": "execute_result"
    }
   ],
   "source": [
    "ar.sort(axis=0)\n",
    "ar"
   ]
  },
  {
   "cell_type": "code",
   "execution_count": 48,
   "metadata": {
    "collapsed": false
   },
   "outputs": [
    {
     "data": {
      "text/plain": [
       "array([[ 3,  2],\n",
       "       [10, -1],\n",
       "       [ 5,  4]])"
      ]
     },
     "execution_count": 48,
     "metadata": {},
     "output_type": "execute_result"
    }
   ],
   "source": [
    "ar=np.array([[3,2],[10,-1],[5,4]])\n",
    "ar"
   ]
  },
  {
   "cell_type": "code",
   "execution_count": 49,
   "metadata": {
    "collapsed": false
   },
   "outputs": [
    {
     "data": {
      "text/plain": [
       "China        yuan\n",
       "Germany      euro\n",
       "Japan         yen\n",
       "Mexico       peso\n",
       "Nigeria     naira\n",
       "UK          pound\n",
       "US         dollar\n",
       "dtype: object"
      ]
     },
     "execution_count": 49,
     "metadata": {},
     "output_type": "execute_result"
    }
   ],
   "source": [
    "currDict={'US' : 'dollar', 'UK' : 'pound', \n",
    "                    'Germany': 'euro', 'Mexico':'peso',\n",
    "                    'Nigeria':'naira',\n",
    "                    'China':'yuan', 'Japan':'yen'}\n",
    "currSeries=pd.Series(currDict); currSeries\n"
   ]
  },
  {
   "cell_type": "code",
   "execution_count": 50,
   "metadata": {
    "collapsed": false
   },
   "outputs": [
    {
     "data": {
      "text/plain": [
       "Index([u'China', u'Germany', u'Japan', u'Mexico', u'Nigeria', u'UK', u'US'], dtype='object')"
      ]
     },
     "execution_count": 50,
     "metadata": {},
     "output_type": "execute_result"
    }
   ],
   "source": [
    "currSeries.index"
   ]
  },
  {
   "cell_type": "code",
   "execution_count": 51,
   "metadata": {
    "collapsed": false
   },
   "outputs": [
    {
     "data": {
      "text/plain": [
       "pandas.core.index.Index"
      ]
     },
     "execution_count": 51,
     "metadata": {},
     "output_type": "execute_result"
    }
   ],
   "source": [
    "type(currSeries.index)"
   ]
  },
  {
   "cell_type": "code",
   "execution_count": 73,
   "metadata": {
    "collapsed": false
   },
   "outputs": [
    {
     "data": {
      "text/plain": [
       "0    0.435995\n",
       "1    0.025926\n",
       "2    0.549662\n",
       "3    0.435322\n",
       "4    0.420368\n",
       "5    0.330335\n",
       "6    0.204649\n",
       "dtype: float64"
      ]
     },
     "execution_count": 73,
     "metadata": {},
     "output_type": "execute_result"
    }
   ],
   "source": [
    "np.random.seed(2)\n",
    "ser=pd.Series(np.random.rand(7)); ser"
   ]
  },
  {
   "cell_type": "code",
   "execution_count": 89,
   "metadata": {
    "collapsed": false
   },
   "outputs": [
    {
     "name": "stdout",
     "output_type": "stream",
     "text": [
      "i=3254441\n",
      "0    0.816680\n",
      "1    0.274298\n",
      "2    0.029621\n",
      "3    0.839700\n",
      "4    0.150357\n",
      "5    0.697690\n",
      "6    0.652894\n",
      "dtype: float64\n",
      "0.816680178218\n"
     ]
    }
   ],
   "source": [
    "for i in range(3000001,4000000):\n",
    "    np.random.seed(i)\n",
    "    ser=pd.Series(np.random.rand(7))\n",
    "    if abs(ser[0]-0.816225) < 0.0005 and abs(ser[1]-0.274074) < 0.0005:\n",
    "        print \"i=%s\" %i \n",
    "        print ser\n",
    "        print ser[0]\n",
    "        break"
   ]
  },
  {
   "cell_type": "code",
   "execution_count": 91,
   "metadata": {
    "collapsed": false
   },
   "outputs": [
    {
     "data": {
      "text/plain": [
       "0    0.543405\n",
       "1    0.278369\n",
       "2    0.424518\n",
       "3    0.844776\n",
       "4    0.004719\n",
       "5    0.121569\n",
       "6    0.670749\n",
       "dtype: float64"
      ]
     },
     "execution_count": 91,
     "metadata": {},
     "output_type": "execute_result"
    }
   ],
   "source": [
    "np.random.seed(100)\n",
    "ser=pd.Series(np.random.rand(7)); ser"
   ]
  },
  {
   "cell_type": "code",
   "execution_count": 92,
   "metadata": {
    "collapsed": false
   },
   "outputs": [
    {
     "data": {
      "text/plain": [
       "0    0.295289\n",
       "1    0.077490\n",
       "2    0.180215\n",
       "3    0.713647\n",
       "4    0.000022\n",
       "5    0.014779\n",
       "6    0.449904\n",
       "dtype: float64"
      ]
     },
     "execution_count": 92,
     "metadata": {},
     "output_type": "execute_result"
    }
   ],
   "source": [
    "ser*ser"
   ]
  },
  {
   "cell_type": "code",
   "execution_count": 93,
   "metadata": {
    "collapsed": false
   },
   "outputs": [
    {
     "data": {
      "text/plain": [
       "0    0.737160\n",
       "1    0.527607\n",
       "2    0.651550\n",
       "3    0.919117\n",
       "4    0.068694\n",
       "5    0.348668\n",
       "6    0.818993\n",
       "dtype: float64"
      ]
     },
     "execution_count": 93,
     "metadata": {},
     "output_type": "execute_result"
    }
   ],
   "source": [
    "np.sqrt(ser)"
   ]
  },
  {
   "cell_type": "code",
   "execution_count": 94,
   "metadata": {
    "collapsed": false
   },
   "outputs": [
    {
     "data": {
      "text/plain": [
       "1    0.278369\n",
       "2    0.424518\n",
       "3    0.844776\n",
       "4    0.004719\n",
       "5    0.121569\n",
       "6    0.670749\n",
       "dtype: float64"
      ]
     },
     "execution_count": 94,
     "metadata": {},
     "output_type": "execute_result"
    }
   ],
   "source": [
    "ser[1:]"
   ]
  },
  {
   "cell_type": "code",
   "execution_count": 95,
   "metadata": {
    "collapsed": false
   },
   "outputs": [
    {
     "data": {
      "text/plain": [
       "0         NaN\n",
       "1    0.556739\n",
       "2    0.849035\n",
       "3    1.689552\n",
       "4    0.009438\n",
       "5         NaN\n",
       "6         NaN\n",
       "dtype: float64"
      ]
     },
     "execution_count": 95,
     "metadata": {},
     "output_type": "execute_result"
    }
   ],
   "source": [
    "ser[1:] + ser[:-2]"
   ]
  },
  {
   "cell_type": "code",
   "execution_count": 96,
   "metadata": {
    "collapsed": false
   },
   "outputs": [
    {
     "data": {
      "text/plain": [
       "0    0.543405\n",
       "1    0.278369\n",
       "2    0.424518\n",
       "3    0.844776\n",
       "4    0.004719\n",
       "5    0.121569\n",
       "6    0.670749\n",
       "dtype: float64"
      ]
     },
     "execution_count": 96,
     "metadata": {},
     "output_type": "execute_result"
    }
   ],
   "source": [
    "ser"
   ]
  },
  {
   "cell_type": "code",
   "execution_count": 97,
   "metadata": {
    "collapsed": true
   },
   "outputs": [],
   "source": [
    "stockSummaries={\n",
    "'AMZN': pd.Series([346.15,0.59,459,0.52,589.8,158.88], \n",
    "        index=['Closing price','EPS',\n",
    "                'Shares Outstanding(M)',\n",
    "                'Beta', 'P/E','Market Cap(B)']),\n",
    "'GOOG': pd.Series([1133.43,36.05,335.83,0.87,31.44,380.64],\n",
    "        index=['Closing price','EPS','Shares  Outstanding(M)',\n",
    "               'Beta','P/E','Market Cap(B)']),\n",
    "'FB': pd.Series([61.48,0.59,2450,104.93,150.92], \n",
    "      index=['Closing price','EPS','Shares Outstanding(M)',\n",
    "             'P/E', 'Market Cap(B)']),\n",
    "'YHOO': pd.Series([34.90,1.27,1010,27.48,0.66,35.36],\n",
    "        index=['Closing price','EPS','Shares Outstanding(M)',\n",
    "               'P/E','Beta', 'Market Cap(B)']),\n",
    "'TWTR':pd.Series([65.25,-0.3,555.2,36.23],\n",
    "       index=['Closing price','EPS','Shares Outstanding(M)',\n",
    "              'Market Cap(B)']), \n",
    "'AAPL':pd.Series([501.53,40.32,892.45,12.44,447.59,0.84],\n",
    "       index=['Closing price','EPS','Shares Outstanding(M)','P/E',   \n",
    "              'Market Cap(B)','Beta'])}\n"
   ]
  },
  {
   "cell_type": "code",
   "execution_count": 98,
   "metadata": {
    "collapsed": false
   },
   "outputs": [
    {
     "data": {
      "text/plain": [
       "{'AAPL': Closing price            501.53\n",
       " EPS                       40.32\n",
       " Shares Outstanding(M)    892.45\n",
       " P/E                       12.44\n",
       " Market Cap(B)            447.59\n",
       " Beta                       0.84\n",
       " dtype: float64, 'AMZN': Closing price            346.15\n",
       " EPS                        0.59\n",
       " Shares Outstanding(M)    459.00\n",
       " Beta                       0.52\n",
       " P/E                      589.80\n",
       " Market Cap(B)            158.88\n",
       " dtype: float64, 'FB': Closing price              61.48\n",
       " EPS                         0.59\n",
       " Shares Outstanding(M)    2450.00\n",
       " P/E                       104.93\n",
       " Market Cap(B)             150.92\n",
       " dtype: float64, 'GOOG': Closing price             1133.43\n",
       " EPS                         36.05\n",
       " Shares  Outstanding(M)     335.83\n",
       " Beta                         0.87\n",
       " P/E                         31.44\n",
       " Market Cap(B)              380.64\n",
       " dtype: float64, 'TWTR': Closing price             65.25\n",
       " EPS                       -0.30\n",
       " Shares Outstanding(M)    555.20\n",
       " Market Cap(B)             36.23\n",
       " dtype: float64, 'YHOO': Closing price              34.90\n",
       " EPS                         1.27\n",
       " Shares Outstanding(M)    1010.00\n",
       " P/E                        27.48\n",
       " Beta                        0.66\n",
       " Market Cap(B)              35.36\n",
       " dtype: float64}"
      ]
     },
     "execution_count": 98,
     "metadata": {},
     "output_type": "execute_result"
    }
   ],
   "source": [
    "stockSummaries"
   ]
  },
  {
   "cell_type": "code",
   "execution_count": 99,
   "metadata": {
    "collapsed": false
   },
   "outputs": [
    {
     "data": {
      "text/html": [
       "<div style=\"max-height:1000px;max-width:1500px;overflow:auto;\">\n",
       "<table border=\"1\" class=\"dataframe\">\n",
       "  <thead>\n",
       "    <tr style=\"text-align: right;\">\n",
       "      <th></th>\n",
       "      <th>AAPL</th>\n",
       "      <th>AMZN</th>\n",
       "      <th>FB</th>\n",
       "      <th>GOOG</th>\n",
       "      <th>TWTR</th>\n",
       "      <th>YHOO</th>\n",
       "    </tr>\n",
       "  </thead>\n",
       "  <tbody>\n",
       "    <tr>\n",
       "      <th>Beta</th>\n",
       "      <td>   0.84</td>\n",
       "      <td>   0.52</td>\n",
       "      <td>     NaN</td>\n",
       "      <td>    0.87</td>\n",
       "      <td>    NaN</td>\n",
       "      <td>    0.66</td>\n",
       "    </tr>\n",
       "    <tr>\n",
       "      <th>Closing price</th>\n",
       "      <td> 501.53</td>\n",
       "      <td> 346.15</td>\n",
       "      <td>   61.48</td>\n",
       "      <td> 1133.43</td>\n",
       "      <td>  65.25</td>\n",
       "      <td>   34.90</td>\n",
       "    </tr>\n",
       "    <tr>\n",
       "      <th>EPS</th>\n",
       "      <td>  40.32</td>\n",
       "      <td>   0.59</td>\n",
       "      <td>    0.59</td>\n",
       "      <td>   36.05</td>\n",
       "      <td>  -0.30</td>\n",
       "      <td>    1.27</td>\n",
       "    </tr>\n",
       "    <tr>\n",
       "      <th>Market Cap(B)</th>\n",
       "      <td> 447.59</td>\n",
       "      <td> 158.88</td>\n",
       "      <td>  150.92</td>\n",
       "      <td>  380.64</td>\n",
       "      <td>  36.23</td>\n",
       "      <td>   35.36</td>\n",
       "    </tr>\n",
       "    <tr>\n",
       "      <th>P/E</th>\n",
       "      <td>  12.44</td>\n",
       "      <td> 589.80</td>\n",
       "      <td>  104.93</td>\n",
       "      <td>   31.44</td>\n",
       "      <td>    NaN</td>\n",
       "      <td>   27.48</td>\n",
       "    </tr>\n",
       "    <tr>\n",
       "      <th>Shares  Outstanding(M)</th>\n",
       "      <td>    NaN</td>\n",
       "      <td>    NaN</td>\n",
       "      <td>     NaN</td>\n",
       "      <td>  335.83</td>\n",
       "      <td>    NaN</td>\n",
       "      <td>     NaN</td>\n",
       "    </tr>\n",
       "    <tr>\n",
       "      <th>Shares Outstanding(M)</th>\n",
       "      <td> 892.45</td>\n",
       "      <td> 459.00</td>\n",
       "      <td> 2450.00</td>\n",
       "      <td>     NaN</td>\n",
       "      <td> 555.20</td>\n",
       "      <td> 1010.00</td>\n",
       "    </tr>\n",
       "  </tbody>\n",
       "</table>\n",
       "</div>"
      ],
      "text/plain": [
       "                          AAPL    AMZN       FB     GOOG    TWTR     YHOO\n",
       "Beta                      0.84    0.52      NaN     0.87     NaN     0.66\n",
       "Closing price           501.53  346.15    61.48  1133.43   65.25    34.90\n",
       "EPS                      40.32    0.59     0.59    36.05   -0.30     1.27\n",
       "Market Cap(B)           447.59  158.88   150.92   380.64   36.23    35.36\n",
       "P/E                      12.44  589.80   104.93    31.44     NaN    27.48\n",
       "Shares  Outstanding(M)     NaN     NaN      NaN   335.83     NaN      NaN\n",
       "Shares Outstanding(M)   892.45  459.00  2450.00      NaN  555.20  1010.00"
      ]
     },
     "execution_count": 99,
     "metadata": {},
     "output_type": "execute_result"
    }
   ],
   "source": [
    "stockDF=pd.DataFrame(stockSummaries); stockDF"
   ]
  },
  {
   "cell_type": "code",
   "execution_count": 100,
   "metadata": {
    "collapsed": false
   },
   "outputs": [
    {
     "data": {
      "text/html": [
       "<div style=\"max-height:1000px;max-width:1500px;overflow:auto;\">\n",
       "<table border=\"1\" class=\"dataframe\">\n",
       "  <thead>\n",
       "    <tr style=\"text-align: right;\">\n",
       "      <th></th>\n",
       "      <th>AAPL</th>\n",
       "      <th>AMZN</th>\n",
       "      <th>FB</th>\n",
       "      <th>GOOG</th>\n",
       "      <th>TWTR</th>\n",
       "      <th>YHOO</th>\n",
       "    </tr>\n",
       "  </thead>\n",
       "  <tbody>\n",
       "    <tr>\n",
       "      <th>Closing price</th>\n",
       "      <td> 501.53</td>\n",
       "      <td> 346.15</td>\n",
       "      <td>   61.48</td>\n",
       "      <td> 1133.43</td>\n",
       "      <td>  65.25</td>\n",
       "      <td>   34.90</td>\n",
       "    </tr>\n",
       "    <tr>\n",
       "      <th>EPS</th>\n",
       "      <td>  40.32</td>\n",
       "      <td>   0.59</td>\n",
       "      <td>    0.59</td>\n",
       "      <td>   36.05</td>\n",
       "      <td>  -0.30</td>\n",
       "      <td>    1.27</td>\n",
       "    </tr>\n",
       "    <tr>\n",
       "      <th>Shares Outstanding(M)</th>\n",
       "      <td> 892.45</td>\n",
       "      <td> 459.00</td>\n",
       "      <td> 2450.00</td>\n",
       "      <td>     NaN</td>\n",
       "      <td> 555.20</td>\n",
       "      <td> 1010.00</td>\n",
       "    </tr>\n",
       "    <tr>\n",
       "      <th>P/E</th>\n",
       "      <td>  12.44</td>\n",
       "      <td> 589.80</td>\n",
       "      <td>  104.93</td>\n",
       "      <td>   31.44</td>\n",
       "      <td>    NaN</td>\n",
       "      <td>   27.48</td>\n",
       "    </tr>\n",
       "    <tr>\n",
       "      <th>Market Cap(B)</th>\n",
       "      <td> 447.59</td>\n",
       "      <td> 158.88</td>\n",
       "      <td>  150.92</td>\n",
       "      <td>  380.64</td>\n",
       "      <td>  36.23</td>\n",
       "      <td>   35.36</td>\n",
       "    </tr>\n",
       "    <tr>\n",
       "      <th>Beta</th>\n",
       "      <td>   0.84</td>\n",
       "      <td>   0.52</td>\n",
       "      <td>     NaN</td>\n",
       "      <td>    0.87</td>\n",
       "      <td>    NaN</td>\n",
       "      <td>    0.66</td>\n",
       "    </tr>\n",
       "  </tbody>\n",
       "</table>\n",
       "</div>"
      ],
      "text/plain": [
       "                         AAPL    AMZN       FB     GOOG    TWTR     YHOO\n",
       "Closing price          501.53  346.15    61.48  1133.43   65.25    34.90\n",
       "EPS                     40.32    0.59     0.59    36.05   -0.30     1.27\n",
       "Shares Outstanding(M)  892.45  459.00  2450.00      NaN  555.20  1010.00\n",
       "P/E                     12.44  589.80   104.93    31.44     NaN    27.48\n",
       "Market Cap(B)          447.59  158.88   150.92   380.64   36.23    35.36\n",
       "Beta                     0.84    0.52      NaN     0.87     NaN     0.66"
      ]
     },
     "execution_count": 100,
     "metadata": {},
     "output_type": "execute_result"
    }
   ],
   "source": [
    "stockDF=pd.DataFrame(stockSummaries,\n",
    "        index=['Closing price','EPS','Shares Outstanding(M)',\n",
    "               'P/E', 'Market Cap(B)','Beta']);stockDF\n"
   ]
  },
  {
   "cell_type": "code",
   "execution_count": 102,
   "metadata": {
    "collapsed": false
   },
   "outputs": [
    {
     "data": {
      "text/html": [
       "<div style=\"max-height:1000px;max-width:1500px;overflow:auto;\">\n",
       "<table border=\"1\" class=\"dataframe\">\n",
       "  <thead>\n",
       "    <tr style=\"text-align: right;\">\n",
       "      <th></th>\n",
       "      <th>FB</th>\n",
       "      <th>TWTR</th>\n",
       "      <th>SCNW</th>\n",
       "    </tr>\n",
       "  </thead>\n",
       "  <tbody>\n",
       "    <tr>\n",
       "      <th>Closing price</th>\n",
       "      <td>   61.48</td>\n",
       "      <td>  65.25</td>\n",
       "      <td> NaN</td>\n",
       "    </tr>\n",
       "    <tr>\n",
       "      <th>EPS</th>\n",
       "      <td>    0.59</td>\n",
       "      <td>  -0.30</td>\n",
       "      <td> NaN</td>\n",
       "    </tr>\n",
       "    <tr>\n",
       "      <th>Shares Outstanding(M)</th>\n",
       "      <td> 2450.00</td>\n",
       "      <td> 555.20</td>\n",
       "      <td> NaN</td>\n",
       "    </tr>\n",
       "    <tr>\n",
       "      <th>P/E</th>\n",
       "      <td>  104.93</td>\n",
       "      <td>    NaN</td>\n",
       "      <td> NaN</td>\n",
       "    </tr>\n",
       "    <tr>\n",
       "      <th>Market Cap(B)</th>\n",
       "      <td>  150.92</td>\n",
       "      <td>  36.23</td>\n",
       "      <td> NaN</td>\n",
       "    </tr>\n",
       "    <tr>\n",
       "      <th>Beta</th>\n",
       "      <td>     NaN</td>\n",
       "      <td>    NaN</td>\n",
       "      <td> NaN</td>\n",
       "    </tr>\n",
       "  </tbody>\n",
       "</table>\n",
       "</div>"
      ],
      "text/plain": [
       "                            FB    TWTR SCNW\n",
       "Closing price            61.48   65.25  NaN\n",
       "EPS                       0.59   -0.30  NaN\n",
       "Shares Outstanding(M)  2450.00  555.20  NaN\n",
       "P/E                     104.93     NaN  NaN\n",
       "Market Cap(B)           150.92   36.23  NaN\n",
       "Beta                       NaN     NaN  NaN"
      ]
     },
     "execution_count": 102,
     "metadata": {},
     "output_type": "execute_result"
    }
   ],
   "source": [
    "stockDF=pd.DataFrame(stockSummaries,\n",
    "        index=['Closing price','EPS','Shares Outstanding(M)',\n",
    "               'P/E', 'Market Cap(B)','Beta'],     \n",
    "        columns=['FB','TWTR','SCNW'])\n",
    "stockDF"
   ]
  },
  {
   "cell_type": "code",
   "execution_count": 106,
   "metadata": {
    "collapsed": false
   },
   "outputs": [
    {
     "data": {
      "text/plain": [
       "array([ 0.54340494,  0.27836939,  0.42451759])"
      ]
     },
     "execution_count": 106,
     "metadata": {},
     "output_type": "execute_result"
    }
   ],
   "source": [
    "np.random.seed(100) \n",
    "ar11=np.random.rand(3); ar11"
   ]
  },
  {
   "cell_type": "code",
   "execution_count": 107,
   "metadata": {
    "collapsed": false
   },
   "outputs": [
    {
     "data": {
      "text/plain": [
       "array([ 0.84477613,  0.00471886,  0.12156912,  0.67074908,  0.82585276])"
      ]
     },
     "execution_count": 107,
     "metadata": {},
     "output_type": "execute_result"
    }
   ],
   "source": [
    "#np.random.seed(100) \n",
    "ar12=np.random.rand(5); ar12"
   ]
  },
  {
   "cell_type": "code",
   "execution_count": 108,
   "metadata": {
    "collapsed": false
   },
   "outputs": [
    {
     "data": {
      "text/plain": [
       "array([[  4.94065646e-324,   4.94065646e-324],\n",
       "       [  4.94065646e-324,   4.94065646e-324],\n",
       "       [  4.94065646e-324,   4.94065646e-324]])"
      ]
     },
     "execution_count": 108,
     "metadata": {},
     "output_type": "execute_result"
    }
   ],
   "source": [
    "ar13=np.empty((3,2)); ar13"
   ]
  },
  {
   "cell_type": "code",
   "execution_count": 111,
   "metadata": {
    "collapsed": false
   },
   "outputs": [
    {
     "data": {
      "text/plain": [
       "January     1\n",
       "February    2\n",
       "March       3\n",
       "April       4\n",
       "May         5\n",
       "dtype: int64"
      ]
     },
     "execution_count": 111,
     "metadata": {},
     "output_type": "execute_result"
    }
   ],
   "source": [
    "import calendar as cal\n",
    "monthNames=[cal.month_name[i] for i in np.arange(1,6)]\n",
    "months=pd.Series(np.arange(1,6),index=monthNames);months"
   ]
  },
  {
   "cell_type": "code",
   "execution_count": 112,
   "metadata": {
    "collapsed": false
   },
   "outputs": [
    {
     "data": {
      "text/plain": [
       "MultiIndex(levels=[[u'US', u'China'], [1990, 2000, 2010]],\n",
       "           labels=[[1, 1, 1, 0, 0, 0], [0, 1, 2, 0, 1, 2]])"
      ]
     },
     "execution_count": 112,
     "metadata": {},
     "output_type": "execute_result"
    }
   ],
   "source": [
    "mIdx = pd.MultiIndex(levels=[['US', 'China'],    \n",
    "                            [1990,2000, 2010]],\n",
    "                     labels=[[1,1,1,0,0,0],[0,1,2,0,1,2]])\n",
    "mIdx\n"
   ]
  },
  {
   "cell_type": "code",
   "execution_count": 113,
   "metadata": {
    "collapsed": false
   },
   "outputs": [
    {
     "data": {
      "text/html": [
       "<div style=\"max-height:1000px;max-width:1500px;overflow:auto;\">\n",
       "<table border=\"1\" class=\"dataframe\">\n",
       "  <thead>\n",
       "    <tr style=\"text-align: right;\">\n",
       "      <th></th>\n",
       "      <th></th>\n",
       "      <th>GDB($B)</th>\n",
       "      <th>Population(M)</th>\n",
       "    </tr>\n",
       "  </thead>\n",
       "  <tbody>\n",
       "    <tr>\n",
       "      <th rowspan=\"3\" valign=\"top\">China</th>\n",
       "      <th>1990</th>\n",
       "      <td>   390.28</td>\n",
       "      <td> 1133.68</td>\n",
       "    </tr>\n",
       "    <tr>\n",
       "      <th>2000</th>\n",
       "      <td>  1198.48</td>\n",
       "      <td> 1266.83</td>\n",
       "    </tr>\n",
       "    <tr>\n",
       "      <th>2010</th>\n",
       "      <td>  6988.47</td>\n",
       "      <td> 1339.72</td>\n",
       "    </tr>\n",
       "    <tr>\n",
       "      <th rowspan=\"3\" valign=\"top\">US</th>\n",
       "      <th>1990</th>\n",
       "      <td>  8900.00</td>\n",
       "      <td>  249.62</td>\n",
       "    </tr>\n",
       "    <tr>\n",
       "      <th>2000</th>\n",
       "      <td> 12680.00</td>\n",
       "      <td>  282.16</td>\n",
       "    </tr>\n",
       "    <tr>\n",
       "      <th>2010</th>\n",
       "      <td> 14940.00</td>\n",
       "      <td>  309.35</td>\n",
       "    </tr>\n",
       "  </tbody>\n",
       "</table>\n",
       "</div>"
      ],
      "text/plain": [
       "             GDB($B)  Population(M)\n",
       "China 1990    390.28        1133.68\n",
       "      2000   1198.48        1266.83\n",
       "      2010   6988.47        1339.72\n",
       "US    1990   8900.00         249.62\n",
       "      2000  12680.00         282.16\n",
       "      2010  14940.00         309.35"
      ]
     },
     "execution_count": 113,
     "metadata": {},
     "output_type": "execute_result"
    }
   ],
   "source": [
    "ChinaUSDF = pd.DataFrame({'Population(M)' : [1133.68, 1266.83, 1339.72, \n",
    "                                                        249.62, 282.16,309.35], \n",
    "                                     'GDB($B)': [390.28, 1198.48, 6988.47, 8900,12680,14940]}, \n",
    "                          index=mIdx)\n",
    "ChinaUSDF\n"
   ]
  },
  {
   "cell_type": "code",
   "execution_count": 114,
   "metadata": {
    "collapsed": false
   },
   "outputs": [
    {
     "data": {
      "text/plain": [
       "<class 'pandas.core.panel.Panel'>\n",
       "Dimensions: 2 (items) x 2 (major_axis) x 3 (minor_axis)\n",
       "Items axis: GDB($B) to Population(M)\n",
       "Major_axis axis: US to China\n",
       "Minor_axis axis: 1990 to 2010"
      ]
     },
     "execution_count": 114,
     "metadata": {},
     "output_type": "execute_result"
    }
   ],
   "source": [
    "ChinaUSDF.to_panel()\n"
   ]
  },
  {
   "cell_type": "code",
   "execution_count": 116,
   "metadata": {
    "collapsed": false
   },
   "outputs": [
    {
     "data": {
      "text/html": [
       "<div style=\"max-height:1000px;max-width:1500px;overflow:auto;\">\n",
       "<table border=\"1\" class=\"dataframe\">\n",
       "  <thead>\n",
       "    <tr style=\"text-align: right;\">\n",
       "      <th></th>\n",
       "      <th></th>\n",
       "      <th>GDB($B)</th>\n",
       "      <th>Population(M)</th>\n",
       "    </tr>\n",
       "  </thead>\n",
       "  <tbody>\n",
       "    <tr>\n",
       "      <th rowspan=\"3\" valign=\"top\">China</th>\n",
       "      <th>1990</th>\n",
       "      <td>   390.28</td>\n",
       "      <td> 1133.68</td>\n",
       "    </tr>\n",
       "    <tr>\n",
       "      <th>2000</th>\n",
       "      <td>  1198.48</td>\n",
       "      <td> 1266.83</td>\n",
       "    </tr>\n",
       "    <tr>\n",
       "      <th>2010</th>\n",
       "      <td>  6988.47</td>\n",
       "      <td> 1339.72</td>\n",
       "    </tr>\n",
       "    <tr>\n",
       "      <th rowspan=\"3\" valign=\"top\">US</th>\n",
       "      <th>1990</th>\n",
       "      <td>  8900.00</td>\n",
       "      <td>  249.62</td>\n",
       "    </tr>\n",
       "    <tr>\n",
       "      <th>2000</th>\n",
       "      <td> 12680.00</td>\n",
       "      <td>  282.16</td>\n",
       "    </tr>\n",
       "    <tr>\n",
       "      <th>2010</th>\n",
       "      <td> 14940.00</td>\n",
       "      <td>  309.35</td>\n",
       "    </tr>\n",
       "  </tbody>\n",
       "</table>\n",
       "</div>"
      ],
      "text/plain": [
       "             GDB($B)  Population(M)\n",
       "China 1990    390.28        1133.68\n",
       "      2000   1198.48        1266.83\n",
       "      2010   6988.47        1339.72\n",
       "US    1990   8900.00         249.62\n",
       "      2000  12680.00         282.16\n",
       "      2010  14940.00         309.35"
      ]
     },
     "execution_count": 116,
     "metadata": {},
     "output_type": "execute_result"
    }
   ],
   "source": [
    "ChinaUSDF = pd.DataFrame({'Population(M)' : [1133.68,   \n",
    "                                                       1266.83, \n",
    "                                                       1339.72, \n",
    "                                                        249.62,         \n",
    "                                                        282.16,\n",
    "                                                        309.35], \n",
    "                                     'GDB($B)': [390.28, 1198.48, \n",
    "                                                 6988.47, 8900,\n",
    "                                                 12680,14940]}, \n",
    "                          index=mIdx)\n",
    "ChinaUSDF\n"
   ]
  },
  {
   "cell_type": "code",
   "execution_count": null,
   "metadata": {
    "collapsed": true
   },
   "outputs": [],
   "source": []
  }
 ],
 "metadata": {
  "kernelspec": {
   "display_name": "Python 2",
   "language": "python",
   "name": "python2"
  },
  "language_info": {
   "codemirror_mode": {
    "name": "ipython",
    "version": 2
   },
   "file_extension": ".py",
   "mimetype": "text/x-python",
   "name": "python",
   "nbconvert_exporter": "python",
   "pygments_lexer": "ipython2",
   "version": "2.7.9"
  }
 },
 "nbformat": 4,
 "nbformat_minor": 0
}
